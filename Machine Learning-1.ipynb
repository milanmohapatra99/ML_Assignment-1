{
 "cells": [
  {
   "cell_type": "markdown",
   "id": "55662857",
   "metadata": {},
   "source": [
    "# Q1. Explain the following with an example:\n",
    "    \n",
    "    1. Artifical Intelligence\n",
    "    \n",
    "    2. Machine Learning\n",
    "    \n",
    "    3. Deep Learning"
   ]
  },
  {
   "cell_type": "markdown",
   "id": "6017d3d0",
   "metadata": {},
   "source": [
    "Ans: 1. Artifical Intelligence : Artificial intelligence (AI) is the ability of a computer or a robot controlled by a computer to do tasks that are usually done by humans because they require human intelligence and discernment.\n",
    "        Artificial intelligence is a technology using which we can create intelligent systems that can simulate human intelligence.The goal of AI is to make a smart computer system like humans to solve complex problems.\n",
    "        \n",
    "    2. Machine Learning: Machine learning is a subfield of artificial intelligence, which enables machines to learn from past data or experiences without being explicitly programmed.The goal of ML is to allow machines to learn from data so that they can give accurate output.\n",
    "        \n",
    "    \n",
    "     3. Deep Learning: Deep learning is a method in artificial intelligence (AI) that teaches computers to process data in a way that is inspired by the human brain. Deep learning models can recognize complex patterns in pictures, text, sounds, and other data to produce accurate insights and predictions.\n",
    "            Deep learning is a subset of machine learning, which is essentially a neural network with three or more layers. These neural networks attempt to simulate the behavior of the human brain—albeit far from matching its ability—allowing it to “learn” from large amounts of data.\n"
   ]
  },
  {
   "cell_type": "markdown",
   "id": "17c1db75",
   "metadata": {},
   "source": [
    "# Q2. What is supervised learning? List some examples of supervised learning."
   ]
  },
  {
   "cell_type": "markdown",
   "id": "bce59f5d",
   "metadata": {},
   "source": [
    "Ans: Supervised learning is the types of machine learning in which machines are trained using well \"labelled\" training data, and on basis of that data, machines predict the output. The labelled data means some input data is already tagged with the correct output.\n",
    "    \n",
    "    Supervised learning can be further divided into two types:\n",
    "\n",
    "    1. Classification\n",
    "\n",
    "    2. Regression\n",
    "\n",
    "\n",
    "Example: House prices,Is it a cat or a dog?,How’s the weather today,Who are the unhappy customers."
   ]
  },
  {
   "cell_type": "markdown",
   "id": "827f2bb8",
   "metadata": {},
   "source": [
    "# Q3. What is unsupervised learning? List some examples of unsupervised learning."
   ]
  },
  {
   "cell_type": "markdown",
   "id": "12604291",
   "metadata": {},
   "source": [
    "Ans: unsupervised learning is a machine learning technique in which models are not supervised using training dataset. Instead, models itself find the hidden patterns and insights from the given data.\n",
    "    \n",
    "    Unsupervised learning can be further divided into two types:\n",
    "\n",
    "     1. Clustering\n",
    "\n",
    "     2. Association\n",
    "        \n",
    "There are various examples of Unsupervised Learning:\n",
    "data exploration,\n",
    "customer segmentation,\n",
    "recommender systems,Social network analysis "
   ]
  },
  {
   "cell_type": "markdown",
   "id": "24aa8aa0",
   "metadata": {},
   "source": [
    "# Q4. What is the difference between AL,ML,DL and DS?"
   ]
  },
  {
   "cell_type": "markdown",
   "id": "9bf09df8",
   "metadata": {},
   "source": [
    "Ans: Machine Learning is a sub-category of AI, and Deep Learning is a sub-category of ML, meaning they are both forms of AI.\n",
    "\n",
    "Artificial intelligence is the broad idea that machines can intelligently execute tasks by mimicking human behaviours and thought processes.\n",
    "\n",
    "Machine learning, a subset of AI, revolves around the idea that machines can learn and adapt through experiences and data to complete specific tasks (Source: sas). An example would be predicting the weather forecast for the next seven days based on data from the previous year and the previous week. Every day, the data from the previous year/week changes, so the ML model must adapt to the new data.\n",
    "\n",
    "Deep learning is a subset of ML. DL models are based on highly complex neural networks that mimic how the brain works. With many layers of processing units, deep learning takes it a step further to learn complex patterns in large amounts of data. For example, deep learning (combined with computer vision) in a driverless car can identify a person crossing the road."
   ]
  },
  {
   "cell_type": "markdown",
   "id": "c4864414",
   "metadata": {},
   "source": [
    "# Q5. What are the main differences between supervised,unsupervised,and semi-supervised learning?"
   ]
  },
  {
   "cell_type": "markdown",
   "id": "c617c58c",
   "metadata": {},
   "source": [
    "Ans: Supervised Learning:\n",
    "        \n",
    "        Supervised Learning can be used for 2 different types of problems i.e. regression and classification.\n",
    "        \n",
    "        Input Data is provided to the model along with the output in the Supervised Learning.Output is predicted by the Supervised Learning.\n",
    "        \n",
    "        Labeled data is used to train supervised learning algorithms.Accurate results are produced using a supervised learning model.\n",
    "        \n",
    "        Training the model to predict output when a new data is provided is the objective of Supervised Learning.\n",
    "        \n",
    "    Unsupervised Learning:\n",
    "        \n",
    "    Unsupervised Learning can be used for 2 different types of problems i.e. clustering and association.\n",
    "    \n",
    "    Only input data is provided in Unsupervised Learning.Hidden patterns in the data can be found using the unsupervised learning model.\n",
    "    \n",
    "    Unlabeled data is used to train unsupervised learning algorithms.The accuracy of results produced are less in unsupervised learning models.\n",
    "    \n",
    "    Finding useful insights, hidden patterns from the unknown dataset is the objective of the unsupervised learning.\n",
    "        \n",
    "        "
   ]
  },
  {
   "cell_type": "markdown",
   "id": "4c2e465c",
   "metadata": {},
   "source": [
    "# Q6. What is train,test and validation split?Explain the importance of each term."
   ]
  },
  {
   "cell_type": "markdown",
   "id": "886169ba",
   "metadata": {},
   "source": [
    "Ans: Training Dataset: The sample of data used to fit the model.\n",
    "\n",
    "The actual dataset that we use to train the model (weights and biases in the case of a Neural Network). The model sees and learns from this data.\n",
    "\n",
    "The training set should have a diversified set of inputs so that the model is trained in all scenarios and can predict any unseen data sample that may appear in the future.\n",
    "\n",
    "\n",
    "Validation Dataset: The sample of data used to provide an unbiased evaluation of a model fit on the training dataset while tuning model hyperparameters. The evaluation becomes more biased as skill on the validation dataset is incorporated into the model configuration.\n",
    "    \n",
    "\n",
    "This validation process gives information that helps us tune the model’s hyperparameters and configurations accordingly. It is like a critic telling us whether the training is moving in the right direction or not.\n",
    "\n",
    "The model is trained on the training set, and, simultaneously, the model evaluation is performed on the validation set after every epoch.\n",
    "\n",
    "The main idea of splitting the dataset into a validation set is to prevent our model from overfitting i.e., the model becomes really good at classifying the samples in the training set but cannot generalize and make accurate classifications on the data it has not seen before. \n",
    "\n",
    "Test Dataset: The sample of data used to provide an unbiased evaluation of a final model fit on the training dataset.\n",
    "    \n",
    "It provides an unbiased final model performance metric in terms of accuracy, precision, etc. To put it simply, it answers the question of \"How well does the model perform?\"\n",
    "\n"
   ]
  },
  {
   "cell_type": "markdown",
   "id": "567e08bb",
   "metadata": {},
   "source": [
    "# Q7. How can unsupervised learning be used in anomaly detection?"
   ]
  },
  {
   "cell_type": "markdown",
   "id": "0f3b3b2f",
   "metadata": {},
   "source": [
    "Ans: Anomaly Detection:\n",
    "Anomaly is a synonym for the word ‘outlier’. Anomaly detection (or outlier detection) is the identification of rare items, events or observations which raise suspicions by differing significantly from the majority of the data. Anomalous activities can be linked to some kind of problems or rare events such as bank fraud, medical problems, structural defects, malfunctioning equipment etc.\n",
    "\n"
   ]
  },
  {
   "cell_type": "markdown",
   "id": "d74400e8",
   "metadata": {},
   "source": [
    "# Q8. List down some commonly used supervised learning algorthims and unsupervised learning algorthims."
   ]
  },
  {
   "cell_type": "markdown",
   "id": "3ecb0da8",
   "metadata": {},
   "source": [
    "List of Supervised Learning Algorithms:\n",
    "        \n",
    "1. Nearest Neighbor\n",
    "\n",
    "2. Naive Bayes\n",
    "\n",
    "3. Decision Trees\n",
    "\n",
    "4. Linear Regression\n",
    "\n",
    "5. Support Vector Machines (SVM)\n",
    "\n",
    "6. Neural Networks\n",
    " \n",
    "7. Random forest for classification and regression problems.\n",
    "\n",
    "List of Unsupervised Learning Algorithms:\n",
    "    \n",
    "1. k-means clustering\n",
    "\n",
    "2. Association Rule\n",
    "\n",
    "3. KNN (k-nearest neighbors)\n",
    "\n",
    "4. Singular value decomposition\n",
    "\n",
    "5. Hierarchal clustering\n",
    "\n",
    "6. Anomaly detection\n"
   ]
  }
 ],
 "metadata": {
  "kernelspec": {
   "display_name": "Python 3 (ipykernel)",
   "language": "python",
   "name": "python3"
  },
  "language_info": {
   "codemirror_mode": {
    "name": "ipython",
    "version": 3
   },
   "file_extension": ".py",
   "mimetype": "text/x-python",
   "name": "python",
   "nbconvert_exporter": "python",
   "pygments_lexer": "ipython3",
   "version": "3.9.7"
  }
 },
 "nbformat": 4,
 "nbformat_minor": 5
}
